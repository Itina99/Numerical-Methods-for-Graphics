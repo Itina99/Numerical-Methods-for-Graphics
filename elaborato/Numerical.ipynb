{
 "cells": [
  {
   "cell_type": "markdown",
   "metadata": {},
   "source": [
    "SKETCH ELABORATO FINALE"
   ]
  },
  {
   "cell_type": "code",
   "execution_count": 1,
   "metadata": {},
   "outputs": [],
   "source": [
    "import matplotlib.pyplot as plt\n",
    "from matplotlib.widgets import Slider\n",
    "import numpy as np\n",
    "import pygismo as gs\n"
   ]
  },
  {
   "cell_type": "markdown",
   "metadata": {},
   "source": [
    "### Conditions to Obtain a Bernstein Basis from a B-spline Basis\n",
    "\n",
    "To obtain a **Bernstein basis** from a B-spline basis, the following conditions must be met:\n",
    "\n",
    "1. **Clamped Knot Vector**: The knot vector must be clamped with multiplicities of \\( p+1 \\) (where \\( p \\) is the degree) at both ends.\n",
    "2. **Single Interval**: The B-spline should span a single interval, typically \\([0, 1]\\), with only two distinct knot values (e.g., \\([0, 0, .... , 1, 1, ....]\\)).\n",
    "3. **Degree Match**: The degree \\( p \\) of the B-spline corresponds to the degree of the Bernstein polynomials.\n",
    "4. **Partition of Unity**: The resulting basis functions must satisfy the properties of Bernstein polynomials, including normalization over \\([0, 1]\\).\n",
    "\n",
    "When these conditions are satisfied, the B-spline basis functions become equivalent to Bernstein basis functions, enabling representation as Bézier curves.\n",
    "\n"
   ]
  },
  {
   "cell_type": "code",
   "execution_count": 2,
   "metadata": {},
   "outputs": [],
   "source": [
    "#vedi codice in BernsteinGismo.py"
   ]
  },
  {
   "cell_type": "markdown",
   "metadata": {},
   "source": [
    "Nelle B spline ho notato una cosa figa, questa è la spiegazione:\n",
    "## Theoretical Explanation: Degree vs. Number of Basis Functions in B-Splines\n",
    "\n",
    "### Key Definitions\n",
    "1. **Total Number of Knots (\\(m+1\\))**:\n",
    "   \\[\n",
    "   m + 1 = n + p + 2\n",
    "   \\]\n",
    "   where:\n",
    "   - \\(n+1\\) is the number of basis functions.\n",
    "   - \\(p\\) is the degree of the B-spline.\n",
    "\n",
    "2. **Valid B-spline Basis Requirements**:\n",
    "   - The degree (\\(p\\)) must satisfy \\(p \\leq n\\) for the basis to span a meaningful spline space.\n",
    "   - When \\(p > n\\), the number of basis functions becomes insufficient for representing the spline at the specified degree.\n",
    "\n",
    "---\n",
    "\n",
    "### Behavior When \\(p > n\\)\n",
    "When the degree (\\(p\\)) exceeds the number of basis functions (\\(n+1\\)):\n",
    "1. **Insufficient Interior Knots**:\n",
    "   - The number of interior knots is too small to properly define independent basis functions for the given degree.\n",
    "   - This leads to a collapse of the spline space.\n",
    "\n",
    "2. **Fixed Configuration**:\n",
    "   - All basis functions collapse into a fixed configuration.\n",
    "   - Typically, this results in a constant or degenerate representation.\n",
    "\n",
    "3. **Plot Behavior**:\n",
    "   - The basis functions remain unchanged when \\(p > n\\), regardless of further increases in \\(p\\).\n",
    "\n",
    "---\n",
    "\n"
   ]
  }
 ],
 "metadata": {
  "kernelspec": {
   "display_name": "NUm",
   "language": "python",
   "name": "python3"
  },
  "language_info": {
   "codemirror_mode": {
    "name": "ipython",
    "version": 3
   },
   "file_extension": ".py",
   "mimetype": "text/x-python",
   "name": "python",
   "nbconvert_exporter": "python",
   "pygments_lexer": "ipython3",
   "version": "3.9.20"
  }
 },
 "nbformat": 4,
 "nbformat_minor": 2
}
