{
 "cells": [
  {
   "cell_type": "markdown",
   "metadata": {},
   "source": [
    "SKETCH ELABORATO FINALE"
   ]
  },
  {
   "cell_type": "code",
   "execution_count": 1,
   "metadata": {},
   "outputs": [],
   "source": [
    "import matplotlib.pyplot as plt\n",
    "from matplotlib.widgets import Slider\n",
    "import numpy as np\n",
    "import pygismo as gs\n"
   ]
  },
  {
   "cell_type": "markdown",
   "metadata": {},
   "source": [
    "### Conditions to Obtain a Bernstein Basis from a B-spline Basis\n",
    "\n",
    "To obtain a **Bernstein basis** from a B-spline basis, the following conditions must be met:\n",
    "\n",
    "1. **Clamped Knot Vector**: The knot vector must be clamped with multiplicities of \\( p+1 \\) (where \\( p \\) is the degree) at both ends.\n",
    "2. **Single Interval**: The B-spline should span a single interval, typically \\([0, 1]\\), with only two distinct knot values (e.g., \\([0, 0, .... , 1, 1, ....]\\)).\n",
    "3. **Degree Match**: The degree \\( p \\) of the B-spline corresponds to the degree of the Bernstein polynomials.\n",
    "4. **Partition of Unity**: The resulting basis functions must satisfy the properties of Bernstein polynomials, including normalization over \\([0, 1]\\).\n",
    "\n",
    "When these conditions are satisfied, the B-spline basis functions become equivalent to Bernstein basis functions, enabling representation as Bézier curves.\n",
    "\n"
   ]
  },
  {
   "cell_type": "code",
   "execution_count": 2,
   "metadata": {},
   "outputs": [],
   "source": [
    "#vedi codice in BernsteinGismo.py"
   ]
  },
  {
   "cell_type": "markdown",
   "metadata": {},
   "source": []
  }
 ],
 "metadata": {
  "kernelspec": {
   "display_name": "NUm",
   "language": "python",
   "name": "python3"
  },
  "language_info": {
   "codemirror_mode": {
    "name": "ipython",
    "version": 3
   },
   "file_extension": ".py",
   "mimetype": "text/x-python",
   "name": "python",
   "nbconvert_exporter": "python",
   "pygments_lexer": "ipython3",
   "version": "3.9.20"
  }
 },
 "nbformat": 4,
 "nbformat_minor": 2
}
